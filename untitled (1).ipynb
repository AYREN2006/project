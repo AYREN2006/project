{
 "cells": [
  {
   "cell_type": "code",
   "execution_count": 1,
   "id": "ed9b87d2-4136-4e05-bcf1-9364787cf356",
   "metadata": {},
   "outputs": [],
   "source": [
    "import requests\n",
    "import bs4 as bs"
   ]
  },
  {
   "cell_type": "code",
   "execution_count": 2,
   "id": "77b2fd4a-401a-4b82-88e6-40725dbf09dc",
   "metadata": {},
   "outputs": [],
   "source": [
    "link = \"https://www.varzesh3.com/news/2122191/\""
   ]
  },
  {
   "cell_type": "code",
   "execution_count": 3,
   "id": "97a5d287-236a-4429-94dd-87c1f4db82a2",
   "metadata": {},
   "outputs": [],
   "source": [
    "response = requests.get(link)"
   ]
  },
  {
   "cell_type": "code",
   "execution_count": 4,
   "id": "346968c5-a7b8-4528-ac16-33125bf51ab1",
   "metadata": {},
   "outputs": [],
   "source": [
    "html = bs.BeautifulSoup(response.content)"
   ]
  },
  {
   "cell_type": "code",
   "execution_count": 5,
   "id": "92e7a929-d5d1-46b4-82fa-dbc5e69227fb",
   "metadata": {},
   "outputs": [],
   "source": [
    "title = html.find( \"h1\",class_ = \"headline\").get_text()"
   ]
  },
  {
   "cell_type": "code",
   "execution_count": 6,
   "id": "14dff2b3-bc53-4cc8-9b10-183cf1095013",
   "metadata": {},
   "outputs": [],
   "source": [
    "div = html.find(\"div\",class_ = \"news-main-detail\")"
   ]
  },
  {
   "cell_type": "code",
   "execution_count": 7,
   "id": "a2650f7b-77c7-4305-8e8e-824f7926a397",
   "metadata": {},
   "outputs": [],
   "source": [
    "view = int(float(div.find_all(\"span\")[2].get_text().split(\" \")[0][:-1]) * 1000)"
   ]
  },
  {
   "cell_type": "code",
   "execution_count": 8,
   "id": "d391a52f-3aa9-4ee3-9899-3b5a26a69406",
   "metadata": {},
   "outputs": [
    {
     "data": {
      "text/plain": [
       "203300"
      ]
     },
     "execution_count": 8,
     "metadata": {},
     "output_type": "execute_result"
    }
   ],
   "source": [
    "view"
   ]
  },
  {
   "cell_type": "code",
   "execution_count": 9,
   "id": "09d617ff-9044-4155-b074-469115341055",
   "metadata": {},
   "outputs": [
    {
     "data": {
      "text/plain": [
       "'124'"
      ]
     },
     "execution_count": 9,
     "metadata": {},
     "output_type": "execute_result"
    }
   ],
   "source": [
    "div.find_all(\"span\")[3].get_text().split(\" \")[0][1:-2]"
   ]
  },
  {
   "cell_type": "code",
   "execution_count": 10,
   "id": "59e99011-bdd7-4f44-a1a4-e08bdcb153e5",
   "metadata": {},
   "outputs": [
    {
     "name": "stdout",
     "output_type": "stream",
     "text": [
      "تیم والیبال فولاد سیرجان\n",
      "لیگ برتر والیبال\n",
      "اروین انگاپت\n",
      "والیبال\n"
     ]
    }
   ],
   "source": [
    "tags = html.find(\"div\",class_ = \"news-tag\").find_all(\"div\",class_ =\"tag\")\n",
    "for tag in tags :\n",
    "    print(tag.find(\"span\").get_text())"
   ]
  },
  {
   "cell_type": "code",
   "execution_count": 11,
   "id": "0719bff1-e431-4a59-9311-3c7692848526",
   "metadata": {},
   "outputs": [],
   "source": [
    "import pandas as pd"
   ]
  },
  {
   "cell_type": "code",
   "execution_count": 12,
   "id": "44d9a1b3-184e-4ec1-8014-8afde2829ed5",
   "metadata": {},
   "outputs": [],
   "source": [
    "page = \"https://www.varzesh3.com/news/2122191/\""
   ]
  },
  {
   "cell_type": "code",
   "execution_count": 13,
   "id": "877ab725-6d4e-4d3b-9bee-a2cb46d056cc",
   "metadata": {},
   "outputs": [],
   "source": [
    "titles = []\n",
    "views = []"
   ]
  },
  {
   "cell_type": "code",
   "execution_count": 14,
   "id": "cd638fb1-2be3-4537-832e-a781a0a6d753",
   "metadata": {},
   "outputs": [],
   "source": [
    "for i in range(2122100,2122191):\n",
    "    link = page + str(i)\n",
    "    resp = requests.get(link)\n",
    "    html = bs.BeautifulSoup(response.content)\n",
    "    try:\n",
    "        title = html.find(\"h1\",class_=\"headline\").get_text()\n",
    "        view = html.find(\"div\",class_ = \"news-main-detail\").find_all(\"span\")[2].get_text().split(\" \")[0][:-1]\n",
    "        titles.append(title)\n",
    "        views.append(view)\n",
    "    except AttributeErorr:\n",
    "        continue"
   ]
  },
  {
   "cell_type": "code",
   "execution_count": 15,
   "id": "f8ec686d-9f2d-41cc-96d9-9701535708e4",
   "metadata": {},
   "outputs": [],
   "source": [
    "dataset = pd.DataFrame(columns=[\"title\",\"view\"])"
   ]
  },
  {
   "cell_type": "code",
   "execution_count": 16,
   "id": "e17498fb-220b-4d57-bc2b-836d8aac453a",
   "metadata": {},
   "outputs": [],
   "source": [
    "dataset[\"title\"] = titles\n",
    "dataset[\"view\"] = views"
   ]
  },
  {
   "cell_type": "code",
   "execution_count": 17,
   "id": "9124fd0c-e220-4a26-b50d-d2a59a9e84dd",
   "metadata": {},
   "outputs": [
    {
     "data": {
      "text/html": [
       "<div>\n",
       "<style scoped>\n",
       "    .dataframe tbody tr th:only-of-type {\n",
       "        vertical-align: middle;\n",
       "    }\n",
       "\n",
       "    .dataframe tbody tr th {\n",
       "        vertical-align: top;\n",
       "    }\n",
       "\n",
       "    .dataframe thead th {\n",
       "        text-align: right;\n",
       "    }\n",
       "</style>\n",
       "<table border=\"1\" class=\"dataframe\">\n",
       "  <thead>\n",
       "    <tr style=\"text-align: right;\">\n",
       "      <th></th>\n",
       "      <th>title</th>\n",
       "      <th>view</th>\n",
       "    </tr>\n",
       "  </thead>\n",
       "  <tbody>\n",
       "    <tr>\n",
       "      <th>0</th>\n",
       "      <td>رسمی: بمب والیبال ایران منفجر شد</td>\n",
       "      <td>203.3</td>\n",
       "    </tr>\n",
       "    <tr>\n",
       "      <th>1</th>\n",
       "      <td>رسمی: بمب والیبال ایران منفجر شد</td>\n",
       "      <td>203.3</td>\n",
       "    </tr>\n",
       "    <tr>\n",
       "      <th>2</th>\n",
       "      <td>رسمی: بمب والیبال ایران منفجر شد</td>\n",
       "      <td>203.3</td>\n",
       "    </tr>\n",
       "    <tr>\n",
       "      <th>3</th>\n",
       "      <td>رسمی: بمب والیبال ایران منفجر شد</td>\n",
       "      <td>203.3</td>\n",
       "    </tr>\n",
       "    <tr>\n",
       "      <th>4</th>\n",
       "      <td>رسمی: بمب والیبال ایران منفجر شد</td>\n",
       "      <td>203.3</td>\n",
       "    </tr>\n",
       "    <tr>\n",
       "      <th>...</th>\n",
       "      <td>...</td>\n",
       "      <td>...</td>\n",
       "    </tr>\n",
       "    <tr>\n",
       "      <th>86</th>\n",
       "      <td>رسمی: بمب والیبال ایران منفجر شد</td>\n",
       "      <td>203.3</td>\n",
       "    </tr>\n",
       "    <tr>\n",
       "      <th>87</th>\n",
       "      <td>رسمی: بمب والیبال ایران منفجر شد</td>\n",
       "      <td>203.3</td>\n",
       "    </tr>\n",
       "    <tr>\n",
       "      <th>88</th>\n",
       "      <td>رسمی: بمب والیبال ایران منفجر شد</td>\n",
       "      <td>203.3</td>\n",
       "    </tr>\n",
       "    <tr>\n",
       "      <th>89</th>\n",
       "      <td>رسمی: بمب والیبال ایران منفجر شد</td>\n",
       "      <td>203.3</td>\n",
       "    </tr>\n",
       "    <tr>\n",
       "      <th>90</th>\n",
       "      <td>رسمی: بمب والیبال ایران منفجر شد</td>\n",
       "      <td>203.3</td>\n",
       "    </tr>\n",
       "  </tbody>\n",
       "</table>\n",
       "<p>91 rows × 2 columns</p>\n",
       "</div>"
      ],
      "text/plain": [
       "                               title   view\n",
       "0   رسمی: بمب والیبال ایران منفجر شد  203.3\n",
       "1   رسمی: بمب والیبال ایران منفجر شد  203.3\n",
       "2   رسمی: بمب والیبال ایران منفجر شد  203.3\n",
       "3   رسمی: بمب والیبال ایران منفجر شد  203.3\n",
       "4   رسمی: بمب والیبال ایران منفجر شد  203.3\n",
       "..                               ...    ...\n",
       "86  رسمی: بمب والیبال ایران منفجر شد  203.3\n",
       "87  رسمی: بمب والیبال ایران منفجر شد  203.3\n",
       "88  رسمی: بمب والیبال ایران منفجر شد  203.3\n",
       "89  رسمی: بمب والیبال ایران منفجر شد  203.3\n",
       "90  رسمی: بمب والیبال ایران منفجر شد  203.3\n",
       "\n",
       "[91 rows x 2 columns]"
      ]
     },
     "execution_count": 17,
     "metadata": {},
     "output_type": "execute_result"
    }
   ],
   "source": [
    "dataset"
   ]
  },
  {
   "cell_type": "code",
   "execution_count": null,
   "id": "e79c37df-bdb9-462a-a1dc-b9d06784e62b",
   "metadata": {},
   "outputs": [],
   "source": []
  }
 ],
 "metadata": {
  "kernelspec": {
   "display_name": "Python 3 (ipykernel)",
   "language": "python",
   "name": "python3"
  },
  "language_info": {
   "codemirror_mode": {
    "name": "ipython",
    "version": 3
   },
   "file_extension": ".py",
   "mimetype": "text/x-python",
   "name": "python",
   "nbconvert_exporter": "python",
   "pygments_lexer": "ipython3",
   "version": "3.12.7"
  }
 },
 "nbformat": 4,
 "nbformat_minor": 5
}
