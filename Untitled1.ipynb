{
 "cells": [
  {
   "cell_type": "code",
   "execution_count": 2,
   "id": "b050efce-3c88-4389-83e2-2c3d7a1db723",
   "metadata": {},
   "outputs": [
    {
     "name": "stdin",
     "output_type": "stream",
     "text": [
      "Enter the word: arefeh\n"
     ]
    }
   ],
   "source": [
    "word = input(\"Enter the word:\")"
   ]
  },
  {
   "cell_type": "code",
   "execution_count": 3,
   "id": "7a5cc9af-0d13-456b-860c-550e3a151bbc",
   "metadata": {},
   "outputs": [
    {
     "name": "stdin",
     "output_type": "stream",
     "text": [
      "how many to shift? 5\n"
     ]
    }
   ],
   "source": [
    "shift = int(input(\"how many to shift?\"))"
   ]
  },
  {
   "cell_type": "code",
   "execution_count": 5,
   "id": "84a6d505-a6b0-48ad-b6f0-959f2ddb7593",
   "metadata": {},
   "outputs": [],
   "source": [
    "alphabet_lower = \"abcdefghijklmnopqrstuvwxyz\"\n",
    "alphabet_upper = \"ABCDEFGHIJKLMNOPQRSTUVWXYZ\"\n",
    "result = \"\""
   ]
  },
  {
   "cell_type": "code",
   "execution_count": 14,
   "id": "8c4f2ddf-ecdf-47c9-b9cf-85872b0e5863",
   "metadata": {},
   "outputs": [
    {
     "name": "stdout",
     "output_type": "stream",
     "text": [
      " fwjkjm\n"
     ]
    }
   ],
   "source": [
    "for char in word:\n",
    "    if char in alphabet_lower:\n",
    "        new_index =(alphabet_lower.index(char) + shift) % 26\n",
    "        result += alphabet_lower[new_index]\n",
    "    elif char in alphabet_upper:\n",
    "           new_index=(alphabet_upper.index(char) + shift) % 26\n",
    "           result += alphabet_upper[new_index]\n",
    "    else:\n",
    "          result += char\n",
    "print(result)"
   ]
  },
  {
   "cell_type": "code",
   "execution_count": null,
   "id": "9fe61865-e3b9-4f91-81c2-196b95b8b047",
   "metadata": {},
   "outputs": [],
   "source": []
  }
 ],
 "metadata": {
  "kernelspec": {
   "display_name": "Python 3 (ipykernel)",
   "language": "python",
   "name": "python3"
  },
  "language_info": {
   "codemirror_mode": {
    "name": "ipython",
    "version": 3
   },
   "file_extension": ".py",
   "mimetype": "text/x-python",
   "name": "python",
   "nbconvert_exporter": "python",
   "pygments_lexer": "ipython3",
   "version": "3.12.7"
  }
 },
 "nbformat": 4,
 "nbformat_minor": 5
}
